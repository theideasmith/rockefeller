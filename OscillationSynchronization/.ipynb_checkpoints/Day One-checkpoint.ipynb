{
 "cells": [
  {
   "cell_type": "markdown",
   "metadata": {},
   "source": [
    "*Complete characterization of the stability of cluster synchronization in complex dynamical networks, Sorrentino et al.*\n",
    "\n",
    "- **Synchronization**\n",
    "- **Incomplete Synchronization**\n",
    "- **Coupling**: how and when clusters form, merge and persist to understand collective dynamics, synchronization. \n",
    "\n",
    "\n",
    "- **Proposal** Method to find and analyze all of the possible cluster synchronization patterns in a Laplacian-coupled network, by applying methods of computational group theory to dynamically equivalent networks. \n",
    "\n",
    "> **Technique** We present a general technique to evaluate the stability of each of the dynamically valid cluster synchronization patterns. Our results are validated in an optoelectronic experiment on a five-node network that confirms the synchronization patterns predicted by the theory.\n",
    "\n",
    "Global synchronization has a well-developed theory(4-6).  Cluster synchronization is a more recently studied and more complex phenomenon. \n",
    "\n",
    "It is important to find what cluster structures exist in a given network. \n",
    "----- \n",
    "\n",
    "Synchronization in large networks: I need to figure out how to write a rudimentary model for this. \n",
    "\n",
    "It would be very interesting to apply this method of analysis to the *Real Time Recurrent Modulated Learning* algorithm and look at the connectome trajectory – analyzing the evolution of the network itself. \n",
    " \n",
    "Additionally, looking for synchronization clusters is one step in the direction of clustering C Elegans not by rudimentary activity series but by what motifs the series evoke about the dynamics of a given neuron. \n",
    "\n",
    "What other behaviors exist beyond oscillation?\n",
    "What unique computations arise from particular oscilltions? \n",
    "\n",
    "\n",
    "Clustered Synchronization : Laplace Coupled Oscillators\n",
    "- Coupled Oscillators\n",
    "- Self coupled oscillators to balance incoming signals from other oscillators. \n",
    "\n",
    "This is the equation describing the dynamics of the system. \n",
    "\n",
    "$\\Delta$"
   ]
  },
  {
   "cell_type": "markdown",
   "metadata": {},
   "source": [
    "$\n",
    "\\begin{equation} \n",
    "\\dot{x}_i = F(x_i)+\\sigma\\sum_{j}A_{ij}H(x_j)\n",
    "\\end{equation}$\n"
   ]
  },
  {
   "cell_type": "code",
   "execution_count": 9,
   "metadata": {
    "collapsed": true
   },
   "outputs": [],
   "source": [
    "from scipy.integrate import *\n",
    "from numpy import *\n",
    "from scipy.integrate import odeint\n",
    "import networkx as nx\n",
    "import matplotlib as plt\n",
    "%matplotlib inline"
   ]
  },
  {
   "cell_type": "markdown",
   "metadata": {},
   "source": [
    "Several other papers have used this equation to model network dynamics.\n",
    "I'll be going through \n",
    "\n",
    "### *Symmetries, stability, and control in nonlinear systems and networks*\n",
    "(Look at sources 1-9 to investigate different roles symmetries can play). \n",
    "\n",
    "One of the goals of this paper is to develop a theoratical framework to study the rich interplay between symmetries of the **system dynamics** and questions of **stability** and **control**. \n",
    "\n"
   ]
  },
  {
   "cell_type": "code",
   "execution_count": 12,
   "metadata": {
    "collapsed": false
   },
   "outputs": [
    {
     "data": {
      "text/plain": [
       "array([[ 0.,  0.,  0.,  1.],\n",
       "       [ 0.,  0.,  0.,  1.],\n",
       "       [ 0.,  0.,  0.,  1.],\n",
       "       [ 1.,  1.,  1.,  0.]])"
      ]
     },
     "execution_count": 12,
     "metadata": {},
     "output_type": "execute_result"
    }
   ],
   "source": [
    "# Adjacency matrix\n",
    "A = zeros(16).reshape((4,4))\n",
    "A[0:3,3] = 1\n",
    "A[3, 0:3] = 1\n",
    "\n",
    "sigma = 1 \n",
    "\n",
    "# Number of nodes\n",
    "N = 6\n",
    "\n",
    "# State variable for each node x_i\n",
    "x = ones((N,1))\n",
    "\n",
    "# Vector field of each node's state\n",
    "F = x\n",
    "\n",
    "# H is a coupling function – I think I've\n",
    "# seen this before with modulatory structures\n",
    "# You give it the state of a variable\n",
    "H = \n",
    "\n",
    "# Derivative of the node\n",
    "df = F + sigma*einsum('ij,j',A,H)"
   ]
  },
  {
   "cell_type": "code",
   "execution_count": 14,
   "metadata": {
    "collapsed": false
   },
   "outputs": [
    {
     "data": {
      "image/png": "[encoded data removed]",
      "text/plain": [
       "<matplotlib.figure.Figure at 0x108eade50>"
      ]
     },
     "metadata": {},
     "output_type": "display_data"
    }
   ],
   "source": [
    "G = nx.DiGraph(A)\n",
    "nx.draw(G)"
   ]
  }
 ],
 "metadata": {
  "kernelspec": {
   "display_name": "Python 2",
   "language": "python",
   "name": "python2"
  },
  "language_info": {
   "codemirror_mode": {
    "name": "ipython",
    "version": 2
   },
   "file_extension": ".py",
   "mimetype": "text/x-python",
   "name": "python",
   "nbconvert_exporter": "python",
   "pygments_lexer": "ipython2",
   "version": "2.7.10"
  }
 },
 "nbformat": 4,
 "nbformat_minor": 0
}
